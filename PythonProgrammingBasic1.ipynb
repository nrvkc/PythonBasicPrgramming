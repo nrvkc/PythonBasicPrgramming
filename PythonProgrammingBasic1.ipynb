{
 "cells": [
  {
   "cell_type": "code",
   "execution_count": null,
   "id": "cdc8163c",
   "metadata": {},
   "outputs": [],
   "source": [
    "1. Write a Python program to print \"Hello Python\"?\n",
    "2. Write a Python program to do arithmetical operations addition and division.?\n",
    "3. Write a Python program to find the area of a triangle?\n",
    "4. Write a Python program to swap two variables?\n",
    "5. Write a Python program to generate a random number?"
   ]
  },
  {
   "cell_type": "code",
   "execution_count": null,
   "id": "807a429a",
   "metadata": {},
   "outputs": [],
   "source": [
    "print('\"Hello Python\"')"
   ]
  },
  {
   "cell_type": "code",
   "execution_count": null,
   "id": "a3f21a30",
   "metadata": {},
   "outputs": [],
   "source": [
    "a=int(input())"
   ]
  },
  {
   "cell_type": "code",
   "execution_count": null,
   "id": "87e8e838",
   "metadata": {},
   "outputs": [],
   "source": [
    "\n",
    "b=int(input())\n"
   ]
  },
  {
   "cell_type": "code",
   "execution_count": null,
   "id": "3d72494b",
   "metadata": {},
   "outputs": [],
   "source": [
    "a+b\n"
   ]
  },
  {
   "cell_type": "code",
   "execution_count": null,
   "id": "e1bea904",
   "metadata": {},
   "outputs": [],
   "source": [
    "a/b"
   ]
  },
  {
   "cell_type": "code",
   "execution_count": 2,
   "id": "97c7f6c7",
   "metadata": {},
   "outputs": [
    {
     "name": "stdout",
     "output_type": "stream",
     "text": [
      "Enter the length of the equilateral triangle:4\n"
     ]
    }
   ],
   "source": [
    "a=int(input('Enter the length of the equilateral triangle:'))"
   ]
  },
  {
   "cell_type": "code",
   "execution_count": null,
   "id": "90fbfb74",
   "metadata": {},
   "outputs": [],
   "source": [
    "a**2*3**0.5/4"
   ]
  },
  {
   "cell_type": "code",
   "execution_count": 10,
   "id": "e153c9f2",
   "metadata": {},
   "outputs": [
    {
     "name": "stdout",
     "output_type": "stream",
     "text": [
      "5\n"
     ]
    }
   ],
   "source": [
    "num1=input()"
   ]
  },
  {
   "cell_type": "code",
   "execution_count": 11,
   "id": "43d430c4",
   "metadata": {},
   "outputs": [
    {
     "name": "stdout",
     "output_type": "stream",
     "text": [
      "4\n"
     ]
    }
   ],
   "source": [
    "num2=input()"
   ]
  },
  {
   "cell_type": "code",
   "execution_count": 12,
   "id": "dd214738",
   "metadata": {},
   "outputs": [],
   "source": [
    "num3=num1\n",
    "num1=num2\n",
    "num2=num3"
   ]
  },
  {
   "cell_type": "code",
   "execution_count": 13,
   "id": "be3c790e",
   "metadata": {},
   "outputs": [
    {
     "name": "stdout",
     "output_type": "stream",
     "text": [
      "4 5\n"
     ]
    }
   ],
   "source": [
    "print(num1,num2)"
   ]
  },
  {
   "cell_type": "code",
   "execution_count": 22,
   "id": "f08d9611",
   "metadata": {},
   "outputs": [
    {
     "data": {
      "text/plain": [
       "0.1050261578464593"
      ]
     },
     "execution_count": 22,
     "metadata": {},
     "output_type": "execute_result"
    }
   ],
   "source": [
    "import random\n",
    "random.random()"
   ]
  },
  {
   "cell_type": "code",
   "execution_count": null,
   "id": "ad88b0b6",
   "metadata": {},
   "outputs": [],
   "source": []
  }
 ],
 "metadata": {
  "kernelspec": {
   "display_name": "Python 3 (ipykernel)",
   "language": "python",
   "name": "python3"
  },
  "language_info": {
   "codemirror_mode": {
    "name": "ipython",
    "version": 3
   },
   "file_extension": ".py",
   "mimetype": "text/x-python",
   "name": "python",
   "nbconvert_exporter": "python",
   "pygments_lexer": "ipython3",
   "version": "3.9.7"
  }
 },
 "nbformat": 4,
 "nbformat_minor": 5
}
